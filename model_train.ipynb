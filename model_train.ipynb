{
 "cells": [
  {
   "cell_type": "code",
   "id": "ec7b941b7c2f9235",
   "metadata": {
    "ExecuteTime": {
     "end_time": "2025-10-23T07:12:12.287015Z",
     "start_time": "2025-10-23T07:12:12.214998Z"
    }
   },
   "source": [
    "%load_ext autoreload\n",
    "%autoreload 2"
   ],
   "outputs": [],
   "execution_count": 1
  },
  {
   "metadata": {},
   "cell_type": "code",
   "outputs": [],
   "execution_count": null,
   "source": [
    "# Login to wandb\n",
    "!wandb login 1d46416e290617f0005c9b98c3592a0350c5fa01"
   ],
   "id": "720706e039d93c15"
  },
  {
   "cell_type": "code",
   "id": "9d130ed3",
   "metadata": {
    "ExecuteTime": {
     "end_time": "2025-10-23T07:12:17.504021Z",
     "start_time": "2025-10-23T07:12:12.892889Z"
    }
   },
   "source": [
    "import os\n",
    "import random\n",
    "\n",
    "import numpy as np\n",
    "import pandas as pd\n",
    "import torch\n",
    "\n",
    "# Import our custom modules\n",
    "from config import Config\n",
    "from dataset import create_data_loaders\n",
    "from metrics import plot_roc_curves, plot_precision_recall_curves\n",
    "from model import create_model, setup_model_for_training\n",
    "from trainer import Trainer\n",
    "\n",
    "\n",
    "def set_seed(seed: int) -> None:\n",
    "    \"\"\"Set random seeds for reproducibility.\"\"\"\n",
    "    random.seed(seed)\n",
    "    np.random.seed(seed)\n",
    "    torch.manual_seed(seed)\n",
    "    torch.cuda.manual_seed_all(seed)\n",
    "\n",
    "\n",
    "# Set random seed for reproducibility\n",
    "set_seed(42)\n",
    "\n",
    "# Check if CUDA is available\n",
    "device = torch.device(\n",
    "    'cuda' if torch.cuda.is_available() else 'cpu'\n",
    ")\n",
    "print(f\"Using device: {device}\")\n",
    "if torch.cuda.is_available():\n",
    "    print(f\"GPU: {torch.cuda.get_device_name(0)}\")\n",
    "\n",
    "print(f\"CUDA Version: {torch.version.cuda}\")\n",
    "print(f\"PyTorch Version: {torch.__version__}\")"
   ],
   "outputs": [
    {
     "name": "stdout",
     "output_type": "stream",
     "text": [
      "Using device: cpu\n",
      "CUDA Version: None\n",
      "PyTorch Version: 2.9.0\n"
     ]
    }
   ],
   "execution_count": 2
  },
  {
   "cell_type": "code",
   "id": "edd720e675ef6f89",
   "metadata": {
    "ExecuteTime": {
     "end_time": "2025-10-23T07:12:17.644058Z",
     "start_time": "2025-10-23T07:12:17.611615Z"
    }
   },
   "source": [
    "# Create configuration object\n",
    "config = Config()\n",
    "config.info()"
   ],
   "outputs": [
    {
     "name": "stdout",
     "output_type": "stream",
     "text": [
      "Configuration:\n",
      "  train_size_perc: 0.8\n",
      "  test_size_perc: 0.2\n",
      "  dataset_src: ./fn-content-dataset/compiled\n",
      "  label_dataframe: ./fn-content-dataset/compiled/action_labels.csv\n",
      "  output_dir: ./outputs\n",
      "  seed: 42\n",
      "  batch_size: 32\n",
      "  num_workers: 5\n",
      "  threshold: 0.5\n",
      "  img_size: 224\n",
      "  model_name: convnextv2_tiny\n",
      "  learning_rate: 1e-05\n",
      "  epochs: 20\n",
      "  early_stopping_patience: 10\n",
      "  early_stopping_min_delta: 0.001\n",
      "  lr_reduce_patience: 2\n",
      "  lr_reduce_factor: 0.5\n",
      "  lr_reduce_min_lr: 1e-07\n",
      "  class_weight_method: inverse_freq\n",
      "  loss_type: focal\n",
      "  use_wandb: False\n",
      "  wandb_project: fn-content-classifier\n",
      "  wandb_entity: miloszbertman\n",
      "  wandb_run_name: None\n",
      "  wandb_tags: None\n",
      "  model_catalog: {'convnextv2_nano': 224, 'convnextv2_tiny': 224, 'convnextv2_base': 224, 'convnextv2_large': 224, 'convnextv2_huge': 224}\n"
     ]
    }
   ],
   "execution_count": 3
  },
  {
   "cell_type": "code",
   "id": "2ec9a41295490de4",
   "metadata": {
    "ExecuteTime": {
     "end_time": "2025-10-23T07:12:17.678085Z",
     "start_time": "2025-10-23T07:12:17.659665Z"
    }
   },
   "source": [
    "# Enable wandb logging\n",
    "config.use_wandb = False\n",
    "config.wandb_tags = [config.model_name]\n",
    "config.wandb_config()"
   ],
   "outputs": [],
   "execution_count": 4
  },
  {
   "metadata": {},
   "cell_type": "markdown",
   "source": "## Updated Dataset Loading with Label Distribution Data",
   "id": "f570e69ea33a01df"
  },
  {
   "metadata": {},
   "cell_type": "code",
   "source": [
    "print(\"Loading and preparing dataset with distribution data...\")\n",
    "\n",
    "# Create data loaders with stratified splitting (updated signature)\n",
    "train_loader, val_loader, label_columns, original_labels, train_labels, test_labels = create_data_loaders(config)\n",
    "\n",
    "# Store the label data for later use\n",
    "print(f\"\\nLabel distribution data available:\")\n",
    "print(f\"  Original labels shape: {original_labels.shape}\")\n",
    "print(f\"  Train labels shape: {train_labels.shape}\")\n",
    "print(f\"  Test labels shape: {test_labels.shape}\")\n"
   ],
   "id": "3cd41e8759067f55",
   "outputs": [],
   "execution_count": null
  },
  {
   "metadata": {},
   "cell_type": "markdown",
   "source": "## Label Distribution Visualization",
   "id": "94cce6e37f224c1d"
  },
  {
   "metadata": {},
   "cell_type": "code",
   "source": [
    "print(\"Creating label distribution visualization...\")\n",
    "\n",
    "# Import the visualization function\n",
    "from dataset import plot_label_distribution\n",
    "\n",
    "# Create the visualization\n",
    "plot_label_distribution(\n",
    "    original_labels=original_labels,\n",
    "    train_labels=train_labels,\n",
    "    test_labels=test_labels,\n",
    "    label_columns=label_columns,\n",
    ")\n",
    "\n",
    "print(\"Label distribution analysis completed!\")\n"
   ],
   "id": "549c0580ee197603",
   "outputs": [],
   "execution_count": null
  },
  {
   "metadata": {},
   "cell_type": "markdown",
   "source": "## Class Imbalance Analysis and Configuration",
   "id": "286572b19c99a7dd"
  },
  {
   "metadata": {},
   "cell_type": "code",
   "source": [
    "print(\"Analyzing class imbalance and configuring class weights...\")\n",
    "\n",
    "# Show current configuration\n",
    "print(f\"\\nClass Weight Configuration:\")\n",
    "print(f\"  Class weight method: {config.class_weight_method}\")\n",
    "print(f\"  Loss function: {config.loss_type}\")\n",
    "\n",
    "# Calculate and display class weights if enabled\n",
    "if config.class_weight_method != 'none':\n",
    "    from losses import print_class_weights\n",
    "\n",
    "    # Get training labels\n",
    "    train_labels = train_loader.dataset.labels\n",
    "\n",
    "    # Print class weights analysis\n",
    "    class_weights = print_class_weights(\n",
    "        train_labels,\n",
    "        label_columns,\n",
    "        method=config.class_weight_method\n",
    "    )\n",
    "\n",
    "    # Store class weights for later use\n",
    "    config.class_weights = class_weights\n",
    "\n",
    "    print(f\"\\nClass weights calculated and stored in config.class_weights\")\n",
    "    print(f\"Class weights shape: {class_weights.shape}\")\n",
    "    print(f\"Class weights device: {class_weights.device}\")\n"
   ],
   "id": "77555bde44f71500",
   "outputs": [],
   "execution_count": null
  },
  {
   "metadata": {},
   "cell_type": "markdown",
   "source": "## Model Creation and Setup",
   "id": "1d6c81be5aad3cf4"
  },
  {
   "metadata": {},
   "cell_type": "code",
   "source": [
    "print(\"Creating and setting up model...\")\n",
    "\n",
    "# Create model\n",
    "model = create_model(config=config, num_classes=len(label_columns))\n",
    "\n",
    "# Setup model for training (freeze/unfreeze based on training mode)\n",
    "model = setup_model_for_training(model=model, device=device, )\n",
    "\n",
    "# Test forward pass\n",
    "print(\"\\nTesting forward pass...\")\n",
    "with torch.no_grad():\n",
    "    sample_images = torch.randn(2, 3, config.img_size, config.img_size).to(device)\n",
    "    sample_output = model(sample_images)\n",
    "    print(f\"  Input shape: {sample_images.shape}\")\n",
    "    print(f\"  Output shape: {sample_output.shape}\")\n",
    "    print(f\"  Output range: [{sample_output.min():.3f}, {sample_output.max():.3f}]\")\n",
    "\n",
    "# Show class weight configuration\n",
    "print(f\"\\nClass Weight Configuration:\")\n",
    "print(f\"  Class weight method: {config.class_weight_method}\")\n",
    "print(f\"  Loss function: {config.loss_type}\")\n",
    "\n",
    "if config.class_weights != 'none':\n",
    "    print(f\"  Class weights calculated: Yes\")\n",
    "    print(f\"  Class weights shape: {config.class_weights.shape}\")\n",
    "else:\n",
    "    print(f\"  Class weights calculated: No\")"
   ],
   "id": "ef0de2577e6e6e2",
   "outputs": [],
   "execution_count": null
  },
  {
   "metadata": {},
   "cell_type": "markdown",
   "source": "## Training Setup",
   "id": "495b69ca9141abea"
  },
  {
   "metadata": {},
   "cell_type": "code",
   "source": [
    "print(\"Setting up trainer...\")\n",
    "\n",
    "# Create trainer\n",
    "trainer = Trainer(\n",
    "    model=model,\n",
    "    config=config,\n",
    "    train_loader=train_loader,\n",
    "    val_loader=val_loader,\n",
    "    label_columns=label_columns,\n",
    "    device=str(device)\n",
    ")"
   ],
   "id": "aa553a44f87708e6",
   "outputs": [],
   "execution_count": null
  },
  {
   "metadata": {},
   "cell_type": "markdown",
   "source": "## Training Execution",
   "id": "8689e6b2753c4ad9"
  },
  {
   "metadata": {},
   "cell_type": "code",
   "source": [
    "print(\"Starting training...\")\n",
    "print(\"=\" * 50)\n",
    "\n",
    "# Start training\n",
    "history = trainer.train()\n",
    "\n",
    "print(\"=\" * 50)\n",
    "print(\"Training completed!\")\n",
    "print(f\"Best validation F1 Micro: {trainer.best_val_f1:.4f}\")\n",
    "\n",
    "# Plot training history\n",
    "print(\"\\nPlotting training history...\")\n",
    "trainer.plot_training_history(save_path=os.path.join(config.output_dir, 'training_history.png'))\n"
   ],
   "id": "b62ee4ffcfb01f3e",
   "outputs": [],
   "execution_count": null
  },
  {
   "metadata": {},
   "cell_type": "markdown",
   "source": "# Model Evaluation and Analysis",
   "id": "56d844c23cc0b178"
  },
  {
   "cell_type": "code",
   "id": "7725f26f567f8039",
   "metadata": {},
   "source": [
    "val_loss, val_metrics = trainer.validate_epoch()\n",
    "\n",
    "print(\"\\nFinal Validation Metrics:\")\n",
    "print(f\"  Loss: {val_loss:.4f}\")\n",
    "print(f\"  F1 Micro: {val_metrics['f1_micro']:.4f}\")\n",
    "print(f\"  F1 Macro: {val_metrics['f1_macro']:.4f}\")\n",
    "print(f\"  F1 Samples: {val_metrics['f1_samples']:.4f}\")\n",
    "print(f\"  Precision Micro: {val_metrics['precision_micro']:.4f}\")\n",
    "print(f\"  Precision Macro: {val_metrics['precision_macro']:.4f}\")\n",
    "print(f\"  Recall Micro: {val_metrics['recall_micro']:.4f}\")\n",
    "print(f\"  Recall Macro: {val_metrics['recall_macro']:.4f}\")\n",
    "\n",
    "if 'roc_auc_micro' in val_metrics:\n",
    "    print(f\"  ROC AUC Micro: {val_metrics['roc_auc_micro']:.4f}\")\n",
    "    print(f\"  ROC AUC Macro: {val_metrics['roc_auc_macro']:.4f}\")\n",
    "    print(f\"  PR AUC Micro: {val_metrics['pr_auc_micro']:.4f}\")\n",
    "    print(f\"  PR AUC Macro: {val_metrics['pr_auc_macro']:.4f}\")\n",
    "\n",
    "# Get per-class metrics\n",
    "print(\"\\nComputing per-class metrics...\")\n",
    "per_class_metrics = trainer.metrics_calculator.compute_per_class_metrics(\n",
    "    y_true=val_loader.dataset.labels,\n",
    "    y_pred=np.concatenate([trainer.model(torch.tensor(batch[0]).to(device)).cpu().detach().numpy()\n",
    "                           for batch in val_loader]),\n",
    "    class_names=label_columns\n",
    ")\n",
    "\n",
    "print(\"\\nPer-class F1 Scores:\")\n",
    "for class_name, metrics in per_class_metrics.items():\n",
    "    print(f\"  {class_name}: {metrics['f1']:.4f} (support: {metrics['support']})\")\n"
   ],
   "outputs": [],
   "execution_count": null
  },
  {
   "metadata": {},
   "cell_type": "markdown",
   "source": "## Visualization and Analysis",
   "id": "64d0438ba8f15a88"
  },
  {
   "cell_type": "code",
   "id": "aefa50c464cd29bc",
   "metadata": {},
   "source": [
    "print(\"Generating visualizations...\")\n",
    "\n",
    "# Get predictions for visualization\n",
    "trainer.model.eval()\n",
    "all_predictions = []\n",
    "all_labels = []\n",
    "all_probabilities = []\n",
    "\n",
    "with torch.no_grad():\n",
    "    for images, labels in val_loader:\n",
    "        images = images.to(device)\n",
    "        labels = labels.to(device)\n",
    "\n",
    "        outputs = trainer.model(images)\n",
    "        probabilities = torch.sigmoid(outputs).cpu().numpy()\n",
    "        predictions = outputs.cpu().numpy()\n",
    "        labels_np = labels.cpu().numpy()\n",
    "\n",
    "        all_predictions.append(predictions)\n",
    "        all_labels.append(labels_np)\n",
    "        all_probabilities.append(probabilities)\n",
    "\n",
    "all_predictions = np.concatenate(all_predictions, axis=0)\n",
    "all_labels = np.concatenate(all_labels, axis=0)\n",
    "all_probabilities = np.concatenate(all_probabilities, axis=0)\n",
    "\n",
    "# Plot ROC curves\n",
    "print(\"Plotting ROC curves...\")\n",
    "plot_roc_curves(\n",
    "    all_labels,\n",
    "    all_probabilities,\n",
    "    label_columns,\n",
    "    save_path=os.path.join(config.output_dir, 'roc_curves.png')\n",
    ")\n",
    "\n",
    "# Plot Precision-Recall curves\n",
    "print(\"Plotting Precision-Recall curves...\")\n",
    "plot_precision_recall_curves(\n",
    "    all_labels,\n",
    "    all_probabilities,\n",
    "    label_columns,\n",
    "    save_path=os.path.join(config.output_dir, 'pr_curves.png')\n",
    ")\n"
   ],
   "outputs": [],
   "execution_count": null
  },
  {
   "metadata": {},
   "cell_type": "markdown",
   "source": "# Model Saving",
   "id": "dbdf5ed85035c9a0"
  },
  {
   "metadata": {},
   "cell_type": "code",
   "source": [
    "print(\"Saving model and results...\")\n",
    "\n",
    "# Create output directory\n",
    "os.makedirs(config.output_dir, exist_ok=True)\n",
    "\n",
    "# Save model\n",
    "model_path = os.path.join(config.output_dir, f'{config.model_name}_finetuned_best.pth')\n",
    "trainer.save_model(model_path)\n",
    "\n",
    "# Save training history as CSV\n",
    "history_df = pd.DataFrame(history)\n",
    "history_path = os.path.join(config.output_dir, 'training_history.csv')\n",
    "history_df.to_csv(history_path, index=False)\n",
    "print(f\"Training history saved to: {history_path}\")\n",
    "\n",
    "# Save configuration\n",
    "config_path = os.path.join(config.output_dir, 'config.json')\n",
    "import json\n",
    "\n",
    "with open(config_path, 'w') as f:\n",
    "    config_dict = {\n",
    "        'model_name': config.model_name,\n",
    "        'training_mode': 'finetuning',\n",
    "        'learning_rate': config.learning_rate,\n",
    "        'epochs': config.epochs,\n",
    "        'batch_size': config.batch_size,\n",
    "        'img_size': config.img_size,\n",
    "        'threshold': config.threshold,\n",
    "        'label_columns': label_columns,\n",
    "        'best_val_f1': trainer.best_val_f1\n",
    "    }\n",
    "    json.dump(config_dict, f, indent=2)\n",
    "print(f\"Configuration saved to: {config_path}\")\n",
    "\n",
    "print(f\"\\nAll files saved to: {config.output_dir}\")\n",
    "print(\"Training completed successfully!\")\n"
   ],
   "id": "4f96cc308634acae",
   "outputs": [],
   "execution_count": null
  },
  {
   "metadata": {},
   "cell_type": "code",
   "source": [
    "from utils import visualize_predictions\n",
    "\n",
    "SAMPLES = 5\n",
    "dataset = iter(val_loader.dataset)\n",
    "\n",
    "images, labels = [], []\n",
    "for s in range(SAMPLES):\n",
    "    img, label = next(dataset)\n",
    "    images.append(img)\n",
    "    labels.append(label)\n",
    "\n",
    "test_images = torch.stack(images, dim=0)\n",
    "test_labels = torch.stack(labels, dim=0)\n",
    "\n",
    "visualize_predictions(\n",
    "    model=trainer.model,\n",
    "    test_images=test_images,\n",
    "    test_labels=test_labels,\n",
    "    label_columns=label_columns,\n",
    "    threshold=config.threshold,\n",
    ")"
   ],
   "id": "e5d047fe702af6b5",
   "outputs": [],
   "execution_count": null
  },
  {
   "metadata": {},
   "cell_type": "code",
   "outputs": [],
   "execution_count": null,
   "source": "",
   "id": "c8382fead8106481"
  }
 ],
 "metadata": {
  "kernelspec": {
   "display_name": "venv",
   "language": "python",
   "name": "python3"
  },
  "language_info": {
   "codemirror_mode": {
    "name": "ipython",
    "version": 3
   },
   "file_extension": ".py",
   "mimetype": "text/x-python",
   "name": "python",
   "nbconvert_exporter": "python",
   "pygments_lexer": "ipython3",
   "version": "3.11.9"
  }
 },
 "nbformat": 4,
 "nbformat_minor": 5
}
