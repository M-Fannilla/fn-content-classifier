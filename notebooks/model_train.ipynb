{
 "cells": [
  {
   "cell_type": "code",
   "id": "ec7b941b7c2f9235",
   "metadata": {},
   "source": [
    "\n",
    "%load_ext autoreload\n",
    "%autoreload 2"
   ],
   "outputs": [],
   "execution_count": null
  },
  {
   "cell_type": "code",
   "id": "720706e039d93c15",
   "metadata": {},
   "source": [
    "# Login to wandb\n",
    "# !wandb login 1d46416e290617f0005c9b98c3592a0350c5fa01"
   ],
   "outputs": [],
   "execution_count": null
  },
  {
   "metadata": {},
   "cell_type": "code",
   "outputs": [],
   "execution_count": null,
   "source": [
    "import random\n",
    "import numpy as np\n",
    "import torch\n",
    "\n",
    "# Import our custom modules\n",
    "from src.classifier.configs import TrainConfig\n",
    "from src.classifier.training.dataset import create_data_loaders\n",
    "from src.classifier.training.dataset import load_and_prepare_data\n",
    "from src.classifier.training.model_helpers import create_model, setup_model_for_training\n",
    "from src.classifier.training.trainer import Trainer\n",
    "from src.classifier.training.utils import compute_class_frequency\n",
    "\n",
    "\n",
    "def set_seed(seed: int) -> None:\n",
    "    \"\"\"Set random seeds for reproducibility.\"\"\"\n",
    "    random.seed(seed)\n",
    "    np.random.seed(seed)\n",
    "    torch.manual_seed(seed)\n",
    "    torch.cuda.manual_seed_all(seed)\n",
    "\n",
    "\n",
    "# Set random seed for reproducibility\n",
    "set_seed(42)\n",
    "\n",
    "# Check if CUDA is available\n",
    "device = torch.device(\n",
    "    'cuda' if torch.cuda.is_available() else 'cpu'\n",
    ")\n",
    "print(f\"Using device: {device}\")\n",
    "if torch.cuda.is_available():\n",
    "    print(f\"GPU: {torch.cuda.get_device_name(0)}\")\n",
    "\n",
    "print(f\"CUDA Version: {torch.version.cuda}\")\n",
    "print(f\"PyTorch Version: {torch.__version__}\")"
   ],
   "id": "4995e326a55042d9"
  },
  {
   "metadata": {},
   "cell_type": "code",
   "outputs": [],
   "execution_count": null,
   "source": [
    "# Create configuration object\n",
    "config = TrainConfig()\n",
    "config.info()"
   ],
   "id": "e1c5c036e1cd3313"
  },
  {
   "cell_type": "code",
   "id": "2ec9a41295490de4",
   "metadata": {},
   "source": [
    "# Enable wandb logging\n",
    "config.use_wandb = False\n",
    "config.wandb_tags = [config.model_name]\n",
    "config.wandb_config()"
   ],
   "outputs": [],
   "execution_count": null
  },
  {
   "cell_type": "code",
   "id": "3cd41e8759067f55",
   "metadata": {},
   "source": [
    "print(\"Loading and preparing dataset with distribution data...\")\n",
    "\n",
    "# Create data loaders with stratified splitting (updated signature)\n",
    "df, image_paths, labels = load_and_prepare_data(config=config)\n",
    "class_frequency = compute_class_frequency(df.drop(['file_name'], axis=1))\n",
    "(\n",
    "    train_loader,\n",
    "    val_loader,\n",
    "    label_columns,\n",
    "    original_labels,\n",
    "    train_labels,\n",
    "    test_labels\n",
    ") = create_data_loaders(df, image_paths, labels, config)\n",
    "\n",
    "# Store the label data for later use\n",
    "print(f\"\\nLabel distribution data available:\")\n",
    "print(f\"  Original labels shape: {original_labels.shape}\")\n",
    "print(f\"  Train labels shape: {train_labels.shape}\")\n",
    "print(f\"  Test labels shape: {test_labels.shape}\")\n"
   ],
   "outputs": [],
   "execution_count": null
  },
  {
   "cell_type": "markdown",
   "id": "94cce6e37f224c1d",
   "metadata": {},
   "source": [
    "## Label Distribution Visualization"
   ]
  },
  {
   "metadata": {},
   "cell_type": "code",
   "outputs": [],
   "execution_count": null,
   "source": [
    "print(\"Creating label distribution visualization...\")\n",
    "\n",
    "# Import the visualization function\n",
    "from src.classifier.training.dataset import plot_label_distribution\n",
    "\n",
    "# Create the visualization\n",
    "plot_label_distribution(\n",
    "    original_labels=original_labels,\n",
    "    train_labels=train_labels,\n",
    "    test_labels=test_labels,\n",
    "    label_columns=label_columns,\n",
    ")\n",
    "\n",
    "print(\"Label distribution analysis completed!\")\n"
   ],
   "id": "55f10ec6002bba7f"
  },
  {
   "cell_type": "markdown",
   "id": "1d6c81be5aad3cf4",
   "metadata": {},
   "source": [
    "## Model Creation and Setup"
   ]
  },
  {
   "cell_type": "code",
   "id": "ef0de2577e6e6e2",
   "metadata": {},
   "source": [
    "print(\"Creating and setting up model...\")\n",
    "\n",
    "# Create model\n",
    "model = create_model(config=config, num_classes=len(label_columns))\n",
    "\n",
    "# Setup model for training (freeze/unfreeze based on training mode)\n",
    "model = setup_model_for_training(model=model, device=device, config=config, class_freq=class_frequency)\n",
    "\n",
    "# Test forward pass\n",
    "print(\"\\nTesting forward pass...\")\n",
    "with torch.no_grad():\n",
    "    sample_images = torch.randn(2, 3, config.img_size, config.img_size).to(device)\n",
    "    sample_output = model(sample_images)\n",
    "    print(f\"  Input shape: {sample_images.shape}\")\n",
    "    print(f\"  Output shape: {sample_output.shape}\")\n",
    "    print(f\"  Output range: [{sample_output.min():.3f}, {sample_output.max():.3f}]\")"
   ],
   "outputs": [],
   "execution_count": null
  },
  {
   "cell_type": "markdown",
   "id": "495b69ca9141abea",
   "metadata": {},
   "source": [
    "## Training Setup"
   ]
  },
  {
   "cell_type": "code",
   "id": "aa553a44f87708e6",
   "metadata": {},
   "source": [
    "print(\"Setting up trainer...\")\n",
    "\n",
    "# Create trainer\n",
    "trainer = Trainer(\n",
    "    class_freq=class_frequency,\n",
    "    config=config,\n",
    "    train_loader=train_loader,\n",
    "    val_loader=val_loader,\n",
    "    label_columns=label_columns,\n",
    "    device=str(device),\n",
    ")"
   ],
   "outputs": [],
   "execution_count": null
  },
  {
   "metadata": {},
   "cell_type": "code",
   "source": [
    "from torch_lr_finder import LRFinder\n",
    "\n",
    "lr_finder = LRFinder(\n",
    "    trainer.get_model(),\n",
    "    trainer.get_optimizer(learning_rate=0.001), # dummy lr, will be overridden\n",
    "    trainer.get_criterion(),\n",
    "    device=\"cuda\",\n",
    ")\n",
    "lr_finder.range_test(\n",
    "    trainer.train_loader,\n",
    "    start_lr=config.lr_range_start,\n",
    "    end_lr=config.lr_range_end,\n",
    "    num_iter=config.lr_range_steps,\n",
    "    step_mode=\"exp\",  # exponential increase\n",
    "    smooth_f=0.05,  # light smoothing\n",
    "    diverge_th=4,  # early stop if loss > 4x best\n",
    ")\n",
    "lr_finder.plot()  # Log scale LR curve"
   ],
   "id": "482029a6d2633b87",
   "outputs": [],
   "execution_count": null
  },
  {
   "cell_type": "markdown",
   "id": "8689e6b2753c4ad9",
   "metadata": {},
   "source": [
    "## Training Execution"
   ]
  },
  {
   "cell_type": "code",
   "id": "b62ee4ffcfb01f3e",
   "metadata": {},
   "source": [
    "print(\"Starting training...\")\n",
    "print(\"=\" * 50)\n",
    "\n",
    "# Start training\n",
    "history = trainer.train()\n",
    "\n",
    "print(\"=\" * 50)\n",
    "print(\"Training completed!\")"
   ],
   "outputs": [],
   "execution_count": null
  },
  {
   "cell_type": "markdown",
   "id": "56d844c23cc0b178",
   "metadata": {},
   "source": [
    "# Model Evaluation and Analysis"
   ]
  },
  {
   "metadata": {},
   "cell_type": "code",
   "outputs": [],
   "execution_count": null,
   "source": [
    "from src.classifier.training.utils import find_best_thresholds\n",
    "\n",
    "y_true, y_pred, y_prob, total_loss = trainer.validate_single_epoch()\n",
    "dynamic_threshold = find_best_thresholds(y_true=y_true, y_prob=y_prob)\n",
    "\n",
    "# Get per-class metrics\n",
    "static_per_class_metrics = trainer.metrics_calculator.compute_per_class_metrics(\n",
    "    y_true=y_true,\n",
    "    y_pred=y_pred,\n",
    "    class_names=label_columns,\n",
    "    threshold=0.4,\n",
    ")\n",
    "\n",
    "# Get per-class metrics\n",
    "dynamic_per_class_metrics = trainer.metrics_calculator.compute_per_class_metrics(\n",
    "    y_true=y_true,\n",
    "    y_pred=y_pred,\n",
    "    class_names=label_columns,\n",
    "    threshold=dynamic_threshold,\n",
    ")\n",
    "\n",
    "label_eval = {}\n",
    "for i, label in enumerate(label_columns):\n",
    "    static_result = static_per_class_metrics[label]\n",
    "    dynamic_result = dynamic_per_class_metrics[label]\n",
    "    static_result.update(dynamic_result)\n",
    "    label_eval[label] = static_result"
   ],
   "id": "7415f0cd3fa857c6"
  },
  {
   "metadata": {},
   "cell_type": "code",
   "outputs": [],
   "execution_count": null,
   "source": "",
   "id": "b5325e717c6b7fec"
  },
  {
   "metadata": {},
   "cell_type": "code",
   "source": "",
   "id": "62a4102a1a4195dc",
   "outputs": [],
   "execution_count": null
  },
  {
   "metadata": {},
   "cell_type": "code",
   "source": "",
   "id": "dafb6e66c18705ef",
   "outputs": [],
   "execution_count": null
  }
 ],
 "metadata": {
  "kernelspec": {
   "display_name": "venv",
   "language": "python",
   "name": "python3"
  },
  "language_info": {
   "codemirror_mode": {
    "name": "ipython",
    "version": 3
   },
   "file_extension": ".py",
   "mimetype": "text/x-python",
   "name": "python",
   "nbconvert_exporter": "python",
   "pygments_lexer": "ipython3",
   "version": "3.11.9"
  }
 },
 "nbformat": 4,
 "nbformat_minor": 5
}
